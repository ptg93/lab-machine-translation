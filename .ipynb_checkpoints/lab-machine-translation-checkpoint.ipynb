{
 "cells": [
  {
   "cell_type": "markdown",
   "metadata": {},
   "source": [
    "# Lab | Text Generation from Shakespeare's Sonnet"
   ]
  },
  {
   "cell_type": "code",
   "execution_count": 2,
   "metadata": {
    "id": "BOwsuGQQY9OL",
    "tags": []
   },
   "outputs": [],
   "source": [
    "from tensorflow.keras.preprocessing.sequence import pad_sequences\n",
    "from tensorflow.keras.layers import Embedding, LSTM, Dense, Dropout, Bidirectional\n",
    "from tensorflow.keras.preprocessing.text import Tokenizer\n",
    "from tensorflow.keras.models import Sequential\n",
    "from tensorflow.keras.optimizers import Adam\n",
    "### YOUR CODE HERE\n",
    "# Figure out how to import regularizers\n",
    "from tensorflow.keras import regularizers\n",
    "###\n",
    "import tensorflow.keras.utils as ku \n",
    "import numpy as np "
   ]
  },
  {
   "cell_type": "code",
   "execution_count": null,
   "metadata": {},
   "outputs": [],
   "source": [
    "\"\"\" \n",
    "!wget --no-check-certificate \\\n",
    "    https://storage.googleapis.com/laurencemoroney-blog.appspot.com/sonnets.txt \\\n",
    "    -O /tmp/sonnets.txt \n",
    "\"\"\""
   ]
  },
  {
   "cell_type": "code",
   "execution_count": 3,
   "metadata": {
    "tags": []
   },
   "outputs": [],
   "source": [
    "import requests\n",
    "url = 'https://raw.githubusercontent.com/martin-gorner/tensorflow-rnn-shakespeare/master/shakespeare/sonnets.txt'\n",
    "resp = requests.get(url)\n",
    "with open('sonnets.txt', 'wb') as f:\n",
    "    f.write(resp.content)"
   ]
  },
  {
   "cell_type": "code",
   "execution_count": 12,
   "metadata": {
    "id": "PRnDnCW-Z7qv",
    "tags": []
   },
   "outputs": [
    {
     "name": "stdout",
     "output_type": "stream",
     "text": [
      "(15484, 10)\n",
      "(15484, 3375)\n",
      "3375\n"
     ]
    }
   ],
   "source": [
    "tokenizer = Tokenizer()\n",
    "\n",
    "data = open('sonnets.txt').read()\n",
    "\n",
    "corpus = data.lower().split(\"\\n\")\n",
    "\n",
    "tokenizer.fit_on_texts(corpus)\n",
    "total_words = len(tokenizer.word_index) + 1\n",
    "\n",
    "# create input sequences using list of tokens\n",
    "input_sequences = []\n",
    "for line in corpus:\n",
    "\ttoken_list = tokenizer.texts_to_sequences([line])[0]\n",
    "\tfor i in range(1, len(token_list)):\n",
    "\t\tn_gram_sequence = token_list[:i+1]\n",
    "\t\tinput_sequences.append(n_gram_sequence)\n",
    "\n",
    "# pad sequences \n",
    "max_sequence_len = max([len(x) for x in input_sequences])\n",
    "input_sequences = np.array(pad_sequences(input_sequences, maxlen=max_sequence_len, padding='pre'))\n",
    "\n",
    "# create predictors and label\n",
    "predictors, label = input_sequences[:,:-1],input_sequences[:,-1]\n",
    "\n",
    "label = ku.to_categorical(label, num_classes=total_words)\n",
    "print(predictors.shape)\n",
    "print(label.shape)\n",
    "print(total_words)"
   ]
  },
  {
   "cell_type": "code",
   "execution_count": 16,
   "metadata": {
    "id": "w9vH8Y59ajYL",
    "tags": []
   },
   "outputs": [
    {
     "data": {
      "text/html": [
       "<pre style=\"white-space:pre;overflow-x:auto;line-height:normal;font-family:Menlo,'DejaVu Sans Mono',consolas,'Courier New',monospace\"><span style=\"font-weight: bold\">Model: \"sequential_1\"</span>\n",
       "</pre>\n"
      ],
      "text/plain": [
       "\u001b[1mModel: \"sequential_1\"\u001b[0m\n"
      ]
     },
     "metadata": {},
     "output_type": "display_data"
    },
    {
     "data": {
      "text/html": [
       "<pre style=\"white-space:pre;overflow-x:auto;line-height:normal;font-family:Menlo,'DejaVu Sans Mono',consolas,'Courier New',monospace\">┏━━━━━━━━━━━━━━━━━━━━━━━━━━━━━━━━━┳━━━━━━━━━━━━━━━━━━━━━━━━┳━━━━━━━━━━━━━━━┓\n",
       "┃<span style=\"font-weight: bold\"> Layer (type)                    </span>┃<span style=\"font-weight: bold\"> Output Shape           </span>┃<span style=\"font-weight: bold\">       Param # </span>┃\n",
       "┡━━━━━━━━━━━━━━━━━━━━━━━━━━━━━━━━━╇━━━━━━━━━━━━━━━━━━━━━━━━╇━━━━━━━━━━━━━━━┩\n",
       "│ embedding_1 (<span style=\"color: #0087ff; text-decoration-color: #0087ff\">Embedding</span>)         │ (<span style=\"color: #00d7ff; text-decoration-color: #00d7ff\">None</span>, <span style=\"color: #00af00; text-decoration-color: #00af00\">10</span>, <span style=\"color: #00af00; text-decoration-color: #00af00\">100</span>)        │       <span style=\"color: #00af00; text-decoration-color: #00af00\">337,500</span> │\n",
       "├─────────────────────────────────┼────────────────────────┼───────────────┤\n",
       "│ bidirectional_1 (<span style=\"color: #0087ff; text-decoration-color: #0087ff\">Bidirectional</span>) │ (<span style=\"color: #00d7ff; text-decoration-color: #00d7ff\">None</span>, <span style=\"color: #00af00; text-decoration-color: #00af00\">10</span>, <span style=\"color: #00af00; text-decoration-color: #00af00\">300</span>)        │       <span style=\"color: #00af00; text-decoration-color: #00af00\">301,200</span> │\n",
       "├─────────────────────────────────┼────────────────────────┼───────────────┤\n",
       "│ dropout_1 (<span style=\"color: #0087ff; text-decoration-color: #0087ff\">Dropout</span>)             │ (<span style=\"color: #00d7ff; text-decoration-color: #00d7ff\">None</span>, <span style=\"color: #00af00; text-decoration-color: #00af00\">10</span>, <span style=\"color: #00af00; text-decoration-color: #00af00\">300</span>)        │             <span style=\"color: #00af00; text-decoration-color: #00af00\">0</span> │\n",
       "├─────────────────────────────────┼────────────────────────┼───────────────┤\n",
       "│ lstm_3 (<span style=\"color: #0087ff; text-decoration-color: #0087ff\">LSTM</span>)                   │ (<span style=\"color: #00d7ff; text-decoration-color: #00d7ff\">None</span>, <span style=\"color: #00af00; text-decoration-color: #00af00\">100</span>)            │       <span style=\"color: #00af00; text-decoration-color: #00af00\">160,400</span> │\n",
       "├─────────────────────────────────┼────────────────────────┼───────────────┤\n",
       "│ dense_2 (<span style=\"color: #0087ff; text-decoration-color: #0087ff\">Dense</span>)                 │ (<span style=\"color: #00d7ff; text-decoration-color: #00d7ff\">None</span>, <span style=\"color: #00af00; text-decoration-color: #00af00\">1687</span>)           │       <span style=\"color: #00af00; text-decoration-color: #00af00\">170,387</span> │\n",
       "├─────────────────────────────────┼────────────────────────┼───────────────┤\n",
       "│ dense_3 (<span style=\"color: #0087ff; text-decoration-color: #0087ff\">Dense</span>)                 │ (<span style=\"color: #00d7ff; text-decoration-color: #00d7ff\">None</span>, <span style=\"color: #00af00; text-decoration-color: #00af00\">3375</span>)           │     <span style=\"color: #00af00; text-decoration-color: #00af00\">5,697,000</span> │\n",
       "└─────────────────────────────────┴────────────────────────┴───────────────┘\n",
       "</pre>\n"
      ],
      "text/plain": [
       "┏━━━━━━━━━━━━━━━━━━━━━━━━━━━━━━━━━┳━━━━━━━━━━━━━━━━━━━━━━━━┳━━━━━━━━━━━━━━━┓\n",
       "┃\u001b[1m \u001b[0m\u001b[1mLayer (type)                   \u001b[0m\u001b[1m \u001b[0m┃\u001b[1m \u001b[0m\u001b[1mOutput Shape          \u001b[0m\u001b[1m \u001b[0m┃\u001b[1m \u001b[0m\u001b[1m      Param #\u001b[0m\u001b[1m \u001b[0m┃\n",
       "┡━━━━━━━━━━━━━━━━━━━━━━━━━━━━━━━━━╇━━━━━━━━━━━━━━━━━━━━━━━━╇━━━━━━━━━━━━━━━┩\n",
       "│ embedding_1 (\u001b[38;5;33mEmbedding\u001b[0m)         │ (\u001b[38;5;45mNone\u001b[0m, \u001b[38;5;34m10\u001b[0m, \u001b[38;5;34m100\u001b[0m)        │       \u001b[38;5;34m337,500\u001b[0m │\n",
       "├─────────────────────────────────┼────────────────────────┼───────────────┤\n",
       "│ bidirectional_1 (\u001b[38;5;33mBidirectional\u001b[0m) │ (\u001b[38;5;45mNone\u001b[0m, \u001b[38;5;34m10\u001b[0m, \u001b[38;5;34m300\u001b[0m)        │       \u001b[38;5;34m301,200\u001b[0m │\n",
       "├─────────────────────────────────┼────────────────────────┼───────────────┤\n",
       "│ dropout_1 (\u001b[38;5;33mDropout\u001b[0m)             │ (\u001b[38;5;45mNone\u001b[0m, \u001b[38;5;34m10\u001b[0m, \u001b[38;5;34m300\u001b[0m)        │             \u001b[38;5;34m0\u001b[0m │\n",
       "├─────────────────────────────────┼────────────────────────┼───────────────┤\n",
       "│ lstm_3 (\u001b[38;5;33mLSTM\u001b[0m)                   │ (\u001b[38;5;45mNone\u001b[0m, \u001b[38;5;34m100\u001b[0m)            │       \u001b[38;5;34m160,400\u001b[0m │\n",
       "├─────────────────────────────────┼────────────────────────┼───────────────┤\n",
       "│ dense_2 (\u001b[38;5;33mDense\u001b[0m)                 │ (\u001b[38;5;45mNone\u001b[0m, \u001b[38;5;34m1687\u001b[0m)           │       \u001b[38;5;34m170,387\u001b[0m │\n",
       "├─────────────────────────────────┼────────────────────────┼───────────────┤\n",
       "│ dense_3 (\u001b[38;5;33mDense\u001b[0m)                 │ (\u001b[38;5;45mNone\u001b[0m, \u001b[38;5;34m3375\u001b[0m)           │     \u001b[38;5;34m5,697,000\u001b[0m │\n",
       "└─────────────────────────────────┴────────────────────────┴───────────────┘\n"
      ]
     },
     "metadata": {},
     "output_type": "display_data"
    },
    {
     "data": {
      "text/html": [
       "<pre style=\"white-space:pre;overflow-x:auto;line-height:normal;font-family:Menlo,'DejaVu Sans Mono',consolas,'Courier New',monospace\"><span style=\"font-weight: bold\"> Total params: </span><span style=\"color: #00af00; text-decoration-color: #00af00\">6,666,487</span> (25.43 MB)\n",
       "</pre>\n"
      ],
      "text/plain": [
       "\u001b[1m Total params: \u001b[0m\u001b[38;5;34m6,666,487\u001b[0m (25.43 MB)\n"
      ]
     },
     "metadata": {},
     "output_type": "display_data"
    },
    {
     "data": {
      "text/html": [
       "<pre style=\"white-space:pre;overflow-x:auto;line-height:normal;font-family:Menlo,'DejaVu Sans Mono',consolas,'Courier New',monospace\"><span style=\"font-weight: bold\"> Trainable params: </span><span style=\"color: #00af00; text-decoration-color: #00af00\">6,666,487</span> (25.43 MB)\n",
       "</pre>\n"
      ],
      "text/plain": [
       "\u001b[1m Trainable params: \u001b[0m\u001b[38;5;34m6,666,487\u001b[0m (25.43 MB)\n"
      ]
     },
     "metadata": {},
     "output_type": "display_data"
    },
    {
     "data": {
      "text/html": [
       "<pre style=\"white-space:pre;overflow-x:auto;line-height:normal;font-family:Menlo,'DejaVu Sans Mono',consolas,'Courier New',monospace\"><span style=\"font-weight: bold\"> Non-trainable params: </span><span style=\"color: #00af00; text-decoration-color: #00af00\">0</span> (0.00 B)\n",
       "</pre>\n"
      ],
      "text/plain": [
       "\u001b[1m Non-trainable params: \u001b[0m\u001b[38;5;34m0\u001b[0m (0.00 B)\n"
      ]
     },
     "metadata": {},
     "output_type": "display_data"
    },
    {
     "name": "stdout",
     "output_type": "stream",
     "text": [
      "None\n"
     ]
    }
   ],
   "source": [
    "model = Sequential()\n",
    "model.add(Embedding(total_words, 100, input_length=max_sequence_len-1))\n",
    "model.add(Bidirectional(LSTM(150, return_sequences=True)))\n",
    "model.add(Dropout(0.2))\n",
    "model.add(LSTM(100))\n",
    "model.add(Dense(total_words//2, activation='relu', kernel_regularizer=regularizers.l2(0.01)))\n",
    "model.add(Dense(total_words, activation='softmax'))\n",
    "# Pick an optimizer\n",
    "model.compile(loss='categorical_crossentropy', optimizer='adam', metrics=['accuracy'])\n",
    "model.build(input_shape=(None, max_sequence_len-1))\n",
    "print(model.summary())\n"
   ]
  },
  {
   "cell_type": "code",
   "execution_count": 18,
   "metadata": {
    "id": "AIg2f1HBxqof",
    "tags": []
   },
   "outputs": [
    {
     "name": "stdout",
     "output_type": "stream",
     "text": [
      "Epoch 1/100\n",
      "484/484 - 16s - 34ms/step - accuracy: 0.0242 - loss: 6.9233\n",
      "Epoch 2/100\n",
      "484/484 - 12s - 24ms/step - accuracy: 0.0225 - loss: 6.5047\n",
      "Epoch 3/100\n",
      "484/484 - 12s - 24ms/step - accuracy: 0.0272 - loss: 6.4044\n",
      "Epoch 4/100\n",
      "484/484 - 12s - 24ms/step - accuracy: 0.0311 - loss: 6.2936\n",
      "Epoch 5/100\n",
      "484/484 - 12s - 24ms/step - accuracy: 0.0363 - loss: 6.2253\n",
      "Epoch 6/100\n",
      "484/484 - 12s - 24ms/step - accuracy: 0.0384 - loss: 6.1644\n",
      "Epoch 7/100\n",
      "484/484 - 11s - 24ms/step - accuracy: 0.0410 - loss: 6.0977\n",
      "Epoch 8/100\n",
      "484/484 - 12s - 24ms/step - accuracy: 0.0418 - loss: 6.0145\n",
      "Epoch 9/100\n",
      "484/484 - 12s - 24ms/step - accuracy: 0.0449 - loss: 5.9382\n",
      "Epoch 10/100\n",
      "484/484 - 12s - 24ms/step - accuracy: 0.0488 - loss: 5.8601\n",
      "Epoch 11/100\n",
      "484/484 - 12s - 24ms/step - accuracy: 0.0521 - loss: 5.7834\n",
      "Epoch 12/100\n",
      "484/484 - 12s - 24ms/step - accuracy: 0.0562 - loss: 5.6985\n",
      "Epoch 13/100\n",
      "484/484 - 12s - 24ms/step - accuracy: 0.0597 - loss: 5.6154\n",
      "Epoch 14/100\n",
      "484/484 - 12s - 24ms/step - accuracy: 0.0632 - loss: 5.5380\n",
      "Epoch 15/100\n",
      "484/484 - 12s - 24ms/step - accuracy: 0.0643 - loss: 5.4550\n",
      "Epoch 16/100\n",
      "484/484 - 12s - 24ms/step - accuracy: 0.0707 - loss: 5.3739\n",
      "Epoch 17/100\n",
      "484/484 - 12s - 24ms/step - accuracy: 0.0730 - loss: 5.2986\n",
      "Epoch 18/100\n",
      "484/484 - 12s - 24ms/step - accuracy: 0.0789 - loss: 5.2163\n",
      "Epoch 19/100\n",
      "484/484 - 12s - 24ms/step - accuracy: 0.0858 - loss: 5.1411\n",
      "Epoch 20/100\n",
      "484/484 - 12s - 24ms/step - accuracy: 0.0884 - loss: 5.0606\n",
      "Epoch 21/100\n",
      "484/484 - 12s - 24ms/step - accuracy: 0.0952 - loss: 4.9829\n",
      "Epoch 22/100\n",
      "484/484 - 12s - 24ms/step - accuracy: 0.1028 - loss: 4.8988\n",
      "Epoch 23/100\n",
      "484/484 - 12s - 24ms/step - accuracy: 0.1065 - loss: 4.8170\n",
      "Epoch 24/100\n",
      "484/484 - 12s - 24ms/step - accuracy: 0.1123 - loss: 4.7400\n",
      "Epoch 25/100\n",
      "484/484 - 12s - 24ms/step - accuracy: 0.1206 - loss: 4.6614\n",
      "Epoch 26/100\n",
      "484/484 - 12s - 24ms/step - accuracy: 0.1281 - loss: 4.5756\n",
      "Epoch 27/100\n",
      "484/484 - 12s - 24ms/step - accuracy: 0.1394 - loss: 4.4988\n",
      "Epoch 28/100\n",
      "484/484 - 12s - 24ms/step - accuracy: 0.1454 - loss: 4.4157\n",
      "Epoch 29/100\n",
      "484/484 - 12s - 24ms/step - accuracy: 0.1538 - loss: 4.3314\n",
      "Epoch 30/100\n",
      "484/484 - 12s - 24ms/step - accuracy: 0.1644 - loss: 4.2604\n",
      "Epoch 31/100\n",
      "484/484 - 12s - 24ms/step - accuracy: 0.1728 - loss: 4.1746\n",
      "Epoch 32/100\n",
      "484/484 - 12s - 24ms/step - accuracy: 0.1851 - loss: 4.1035\n",
      "Epoch 33/100\n",
      "484/484 - 12s - 24ms/step - accuracy: 0.1981 - loss: 4.0217\n",
      "Epoch 34/100\n",
      "484/484 - 12s - 24ms/step - accuracy: 0.2099 - loss: 3.9552\n",
      "Epoch 35/100\n",
      "484/484 - 12s - 24ms/step - accuracy: 0.2257 - loss: 3.8807\n",
      "Epoch 36/100\n",
      "484/484 - 12s - 24ms/step - accuracy: 0.2382 - loss: 3.8112\n",
      "Epoch 37/100\n",
      "484/484 - 12s - 24ms/step - accuracy: 0.2508 - loss: 3.7366\n",
      "Epoch 38/100\n",
      "484/484 - 12s - 24ms/step - accuracy: 0.2701 - loss: 3.6659\n",
      "Epoch 39/100\n",
      "484/484 - 12s - 24ms/step - accuracy: 0.2869 - loss: 3.6062\n",
      "Epoch 40/100\n",
      "484/484 - 12s - 25ms/step - accuracy: 0.2993 - loss: 3.5449\n",
      "Epoch 41/100\n",
      "484/484 - 12s - 25ms/step - accuracy: 0.3132 - loss: 3.4823\n",
      "Epoch 42/100\n",
      "484/484 - 12s - 25ms/step - accuracy: 0.3247 - loss: 3.4113\n",
      "Epoch 43/100\n",
      "484/484 - 12s - 25ms/step - accuracy: 0.3433 - loss: 3.3491\n",
      "Epoch 44/100\n",
      "484/484 - 12s - 25ms/step - accuracy: 0.3532 - loss: 3.2884\n",
      "Epoch 45/100\n",
      "484/484 - 12s - 25ms/step - accuracy: 0.3662 - loss: 3.2339\n",
      "Epoch 46/100\n",
      "484/484 - 12s - 25ms/step - accuracy: 0.3807 - loss: 3.1727\n",
      "Epoch 47/100\n",
      "484/484 - 12s - 25ms/step - accuracy: 0.3897 - loss: 3.1212\n",
      "Epoch 48/100\n",
      "484/484 - 12s - 25ms/step - accuracy: 0.4009 - loss: 3.0806\n",
      "Epoch 49/100\n",
      "484/484 - 12s - 25ms/step - accuracy: 0.4121 - loss: 3.0160\n",
      "Epoch 50/100\n",
      "484/484 - 12s - 25ms/step - accuracy: 0.4251 - loss: 2.9667\n",
      "Epoch 51/100\n",
      "484/484 - 12s - 25ms/step - accuracy: 0.4379 - loss: 2.9265\n",
      "Epoch 52/100\n",
      "484/484 - 12s - 25ms/step - accuracy: 0.4441 - loss: 2.8824\n",
      "Epoch 53/100\n",
      "484/484 - 12s - 25ms/step - accuracy: 0.4590 - loss: 2.8280\n",
      "Epoch 54/100\n",
      "484/484 - 12s - 25ms/step - accuracy: 0.4660 - loss: 2.7807\n",
      "Epoch 55/100\n",
      "484/484 - 12s - 25ms/step - accuracy: 0.4787 - loss: 2.7438\n",
      "Epoch 56/100\n",
      "484/484 - 12s - 25ms/step - accuracy: 0.4868 - loss: 2.6886\n",
      "Epoch 57/100\n",
      "484/484 - 12s - 25ms/step - accuracy: 0.4989 - loss: 2.6457\n",
      "Epoch 58/100\n",
      "484/484 - 12s - 25ms/step - accuracy: 0.5112 - loss: 2.5950\n",
      "Epoch 59/100\n",
      "484/484 - 12s - 25ms/step - accuracy: 0.5130 - loss: 2.5666\n",
      "Epoch 60/100\n",
      "484/484 - 12s - 25ms/step - accuracy: 0.5250 - loss: 2.5334\n",
      "Epoch 61/100\n",
      "484/484 - 12s - 25ms/step - accuracy: 0.5254 - loss: 2.4963\n",
      "Epoch 62/100\n",
      "484/484 - 12s - 25ms/step - accuracy: 0.5418 - loss: 2.4560\n",
      "Epoch 63/100\n",
      "484/484 - 12s - 25ms/step - accuracy: 0.5440 - loss: 2.4307\n",
      "Epoch 64/100\n",
      "484/484 - 12s - 25ms/step - accuracy: 0.5601 - loss: 2.3818\n",
      "Epoch 65/100\n",
      "484/484 - 12s - 25ms/step - accuracy: 0.5645 - loss: 2.3490\n",
      "Epoch 66/100\n",
      "484/484 - 12s - 25ms/step - accuracy: 0.5690 - loss: 2.3163\n",
      "Epoch 67/100\n",
      "484/484 - 12s - 25ms/step - accuracy: 0.5745 - loss: 2.2868\n",
      "Epoch 68/100\n",
      "484/484 - 12s - 25ms/step - accuracy: 0.5844 - loss: 2.2466\n",
      "Epoch 69/100\n",
      "484/484 - 12s - 25ms/step - accuracy: 0.5914 - loss: 2.2182\n",
      "Epoch 70/100\n",
      "484/484 - 12s - 25ms/step - accuracy: 0.5965 - loss: 2.1897\n",
      "Epoch 71/100\n",
      "484/484 - 12s - 25ms/step - accuracy: 0.6028 - loss: 2.1681\n",
      "Epoch 72/100\n",
      "484/484 - 12s - 25ms/step - accuracy: 0.6082 - loss: 2.1356\n",
      "Epoch 73/100\n",
      "484/484 - 12s - 25ms/step - accuracy: 0.6161 - loss: 2.1156\n",
      "Epoch 74/100\n",
      "484/484 - 12s - 25ms/step - accuracy: 0.6180 - loss: 2.0802\n",
      "Epoch 75/100\n",
      "484/484 - 12s - 25ms/step - accuracy: 0.6258 - loss: 2.0504\n",
      "Epoch 76/100\n",
      "484/484 - 12s - 25ms/step - accuracy: 0.6313 - loss: 2.0325\n",
      "Epoch 77/100\n",
      "484/484 - 12s - 25ms/step - accuracy: 0.6352 - loss: 2.0144\n",
      "Epoch 78/100\n",
      "484/484 - 12s - 25ms/step - accuracy: 0.6441 - loss: 1.9757\n",
      "Epoch 79/100\n",
      "484/484 - 12s - 25ms/step - accuracy: 0.6472 - loss: 1.9457\n",
      "Epoch 80/100\n",
      "484/484 - 12s - 25ms/step - accuracy: 0.6560 - loss: 1.9295\n",
      "Epoch 81/100\n",
      "484/484 - 12s - 25ms/step - accuracy: 0.6564 - loss: 1.9007\n",
      "Epoch 82/100\n",
      "484/484 - 12s - 25ms/step - accuracy: 0.6580 - loss: 1.8900\n",
      "Epoch 83/100\n",
      "484/484 - 12s - 25ms/step - accuracy: 0.6714 - loss: 1.8624\n",
      "Epoch 84/100\n",
      "484/484 - 12s - 25ms/step - accuracy: 0.6740 - loss: 1.8384\n",
      "Epoch 85/100\n",
      "484/484 - 12s - 25ms/step - accuracy: 0.6777 - loss: 1.8151\n",
      "Epoch 86/100\n",
      "484/484 - 12s - 25ms/step - accuracy: 0.6805 - loss: 1.7985\n",
      "Epoch 87/100\n",
      "484/484 - 12s - 25ms/step - accuracy: 0.6840 - loss: 1.7854\n",
      "Epoch 88/100\n",
      "484/484 - 12s - 25ms/step - accuracy: 0.6865 - loss: 1.7643\n",
      "Epoch 89/100\n",
      "484/484 - 12s - 25ms/step - accuracy: 0.6913 - loss: 1.7375\n",
      "Epoch 90/100\n",
      "484/484 - 12s - 25ms/step - accuracy: 0.6941 - loss: 1.7281\n",
      "Epoch 91/100\n",
      "484/484 - 12s - 25ms/step - accuracy: 0.6976 - loss: 1.7079\n",
      "Epoch 92/100\n",
      "484/484 - 12s - 25ms/step - accuracy: 0.6997 - loss: 1.6982\n",
      "Epoch 93/100\n",
      "484/484 - 12s - 25ms/step - accuracy: 0.7035 - loss: 1.6842\n",
      "Epoch 94/100\n",
      "484/484 - 12s - 25ms/step - accuracy: 0.7052 - loss: 1.6673\n",
      "Epoch 95/100\n",
      "484/484 - 12s - 25ms/step - accuracy: 0.7092 - loss: 1.6369\n",
      "Epoch 96/100\n",
      "484/484 - 12s - 25ms/step - accuracy: 0.7154 - loss: 1.6188\n",
      "Epoch 97/100\n",
      "484/484 - 12s - 25ms/step - accuracy: 0.7144 - loss: 1.6059\n",
      "Epoch 98/100\n",
      "484/484 - 12s - 25ms/step - accuracy: 0.7207 - loss: 1.5910\n",
      "Epoch 99/100\n",
      "484/484 - 12s - 25ms/step - accuracy: 0.7208 - loss: 1.5778\n",
      "Epoch 100/100\n",
      "484/484 - 12s - 25ms/step - accuracy: 0.7195 - loss: 1.5744\n"
     ]
    }
   ],
   "source": [
    " history = model.fit(predictors, label, epochs=100, verbose=2)"
   ]
  },
  {
   "cell_type": "code",
   "execution_count": 21,
   "metadata": {
    "id": "1fXTEO3GJ282",
    "tags": []
   },
   "outputs": [
    {
     "data": {
      "image/png": "[encoded data removed]",
      "text/plain": [
       "<Figure size 640x480 with 1 Axes>"
      ]
     },
     "metadata": {},
     "output_type": "display_data"
    },
    {
     "data": {
      "image/png": "[encoded data removed]",
      "text/plain": [
       "<Figure size 640x480 with 1 Axes>"
      ]
     },
     "metadata": {},
     "output_type": "display_data"
    }
   ],
   "source": [
    "import matplotlib.pyplot as plt\n",
    "acc = history.history['accuracy']\n",
    "loss = history.history['loss']\n",
    "\n",
    "epochs = range(len(acc))\n",
    "\n",
    "plt.plot(epochs, acc, 'b', label='Training accuracy')\n",
    "plt.title('Training accuracy')\n",
    "\n",
    "plt.figure()\n",
    "\n",
    "plt.plot(epochs, loss, 'b', label='Training Loss')\n",
    "plt.title('Training loss')\n",
    "plt.legend()\n",
    "\n",
    "plt.show()"
   ]
  },
  {
   "cell_type": "code",
   "execution_count": 31,
   "metadata": {
    "id": "6Vc6PHgxa6Hm",
    "tags": []
   },
   "outputs": [
    {
     "name": "stdout",
     "output_type": "stream",
     "text": [
      "Help me Obi Wan Kenobi, you're my only hope and thriftless praise care pace eyes ' of true heart to hell your mind decay shade show life to loss make hate time's mind times of hate more heart hate alter'd say of doubt more needing near of hate hate hate more bright too heart seem see ill end it hate will will i know down thee me more strong greater friend hate hour 'will ' happy show to show that hate hate more live well well dead contents dead cause of shown ' hate new you will tell to lie that thence seen muse to spend long date light\n"
     ]
    }
   ],
   "source": [
    "seed_text = \"Help me Obi Wan Kenobi, you're my only hope\"\n",
    "next_words = 100\n",
    "  \n",
    "for _ in range(next_words):\n",
    "    token_list = tokenizer.texts_to_sequences([seed_text])[0]\n",
    "    token_list = pad_sequences([token_list], maxlen=max_sequence_len-1, padding='pre')\n",
    "    predicted = model.predict(token_list, verbose=0)\n",
    "    predicted_class = np.argmax(predicted, axis=-1)\n",
    "    output_word = \"\"\n",
    "    for word, index in tokenizer.word_index.items():\n",
    "        if index == predicted_class:\n",
    "            output_word = word\n",
    "            break\n",
    "    seed_text += \" \" + output_word\n",
    "print(seed_text)"
   ]
  },
  {
   "cell_type": "code",
   "execution_count": null,
   "metadata": {},
   "outputs": [],
   "source": []
  }
 ],
 "metadata": {
  "accelerator": "GPU",
  "colab": {
   "name": "NLP_Week4_Exercise_Shakespeare_Question.ipynb",
   "provenance": [],
   "toc_visible": true
  },
  "kernelspec": {
   "display_name": "Python 3 (ipykernel)",
   "language": "python",
   "name": "python3"
  },
  "language_info": {
   "codemirror_mode": {
    "name": "ipython",
    "version": 3
   },
   "file_extension": ".py",
   "mimetype": "text/x-python",
   "name": "python",
   "nbconvert_exporter": "python",
   "pygments_lexer": "ipython3",
   "version": "3.11.7"
  }
 },
 "nbformat": 4,
 "nbformat_minor": 4
}
